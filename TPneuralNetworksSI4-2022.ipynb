{
 "cells": [
  {
   "cell_type": "markdown",
   "metadata": {},
   "source": [
    "# TP réseaux de neurones\n",
    "\n",
    "Diane Lingrand (diane.lingrand@univ-cotedazur.fr)\n",
    "\n",
    "Polytech SI4 - CVML - 2022-23"
   ]
  },
  {
   "cell_type": "markdown",
   "metadata": {},
   "source": [
    "## imports nécessaires pour la suite"
   ]
  },
  {
   "cell_type": "code",
   "execution_count": 20,
   "metadata": {
    "ExecuteTime": {
     "end_time": "2022-11-14T13:51:34.286491Z",
     "start_time": "2022-11-14T13:51:27.172676Z"
    }
   },
   "outputs": [],
   "source": [
    "import matplotlib.pyplot as plt\n",
    "import random\n",
    "import numpy as np\n",
    "from sklearn import ensemble\n",
    "from sklearn.metrics import ConfusionMatrixDisplay, f1_score\n",
    "from sklearn.utils import shuffle\n",
    "from tensorflow.keras.models import Sequential\n",
    "from tensorflow.keras.layers import Dense, Activation \n",
    "import tensorflow.keras.utils\n",
    "from keras.models import Sequential\n",
    "from keras.layers import Dense, Flatten\n",
    "from keras.utils import to_categorical\n",
    "from sklearn.metrics import classification_report, confusion_matrix\n",
    "from keras.callbacks import EarlyStopping\n"
   ]
  },
  {
   "cell_type": "code",
   "execution_count": 21,
   "metadata": {
    "ExecuteTime": {
     "end_time": "2022-11-14T13:52:05.755716Z",
     "start_time": "2022-11-14T13:52:05.420903Z"
    }
   },
   "outputs": [],
   "source": [
    "# reading the dataset\n",
    "from tensorflow.keras.datasets import mnist\n",
    "\n",
    "(x_train, y_train), (x_test, y_test) = mnist.load_data()"
   ]
  },
  {
   "cell_type": "code",
   "execution_count": 22,
   "metadata": {
    "ExecuteTime": {
     "end_time": "2022-11-14T13:58:46.141357Z",
     "start_time": "2022-11-14T13:58:46.136121Z"
    }
   },
   "outputs": [
    {
     "name": "stdout",
     "output_type": "stream",
     "text": [
      "shape of x_train: (60000, 28, 28)\n",
      "shape of y_train: (60000,)\n"
     ]
    }
   ],
   "source": [
    "print(\"shape of x_train:\", x_train.shape)\n",
    "print(\"shape of y_train:\", y_train.shape)"
   ]
  },
  {
   "cell_type": "code",
   "execution_count": 23,
   "metadata": {
    "ExecuteTime": {
     "end_time": "2022-11-14T13:52:06.104027Z",
     "start_time": "2022-11-14T13:52:05.967253Z"
    }
   },
   "outputs": [
    {
     "data": {
      "image/png": "[encoded data removed]",
      "text/plain": [
       "<Figure size 640x480 with 1 Axes>"
      ]
     },
     "metadata": {},
     "output_type": "display_data"
    }
   ],
   "source": [
    "# display a random image from the train dataset (re-run the cell in order to change the image)\n",
    "import matplotlib.pyplot as plt\n",
    "i = random.randint(0,len(x_train)-1)\n",
    "plt.imshow(x_train[i],aspect=\"auto\",cmap='gray')\n",
    "plt.show()"
   ]
  },
  {
   "cell_type": "markdown",
   "metadata": {
    "heading_collapsed": true
   },
   "source": [
    "# 1. Un premier MLP"
   ]
  },
  {
   "cell_type": "code",
   "execution_count": 24,
   "metadata": {
    "hidden": true
   },
   "outputs": [
    {
     "name": "stdout",
     "output_type": "stream",
     "text": [
      "Model: \"sequential_4\"\n",
      "_________________________________________________________________\n",
      " Layer (type)                Output Shape              Param #   \n",
      "=================================================================\n",
      " flatten_4 (Flatten)         (None, 784)               0         \n",
      "                                                                 \n",
      " dense_8 (Dense)             (None, 4)                 3140      \n",
      "                                                                 \n",
      " dense_9 (Dense)             (None, 10)                50        \n",
      "                                                                 \n",
      "=================================================================\n",
      "Total params: 3,190\n",
      "Trainable params: 3,190\n",
      "Non-trainable params: 0\n",
      "_________________________________________________________________\n",
      "Epoch 1/100\n",
      "469/469 [==============================] - 2s 2ms/step - loss: 1.8585 - accuracy: 0.5300 - val_loss: 1.5906 - val_accuracy: 0.6661\n",
      "Epoch 2/100\n",
      "469/469 [==============================] - 1s 1ms/step - loss: 1.4332 - accuracy: 0.6937 - val_loss: 1.2731 - val_accuracy: 0.7202\n",
      "Epoch 3/100\n",
      "469/469 [==============================] - 1s 2ms/step - loss: 1.1751 - accuracy: 0.7335 - val_loss: 1.0676 - val_accuracy: 0.7476\n",
      "Epoch 4/100\n",
      "469/469 [==============================] - 1s 2ms/step - loss: 1.0034 - accuracy: 0.7614 - val_loss: 0.9285 - val_accuracy: 0.7664\n",
      "Epoch 5/100\n",
      "469/469 [==============================] - 1s 2ms/step - loss: 0.8869 - accuracy: 0.7817 - val_loss: 0.8363 - val_accuracy: 0.7882\n",
      "Epoch 6/100\n",
      "469/469 [==============================] - 1s 2ms/step - loss: 0.8063 - accuracy: 0.7966 - val_loss: 0.7689 - val_accuracy: 0.8000\n",
      "Epoch 7/100\n",
      "469/469 [==============================] - 1s 2ms/step - loss: 0.7483 - accuracy: 0.8080 - val_loss: 0.7213 - val_accuracy: 0.8105\n",
      "Epoch 8/100\n",
      "469/469 [==============================] - 1s 2ms/step - loss: 0.7054 - accuracy: 0.8180 - val_loss: 0.6840 - val_accuracy: 0.8174\n",
      "Epoch 9/100\n",
      "469/469 [==============================] - 1s 2ms/step - loss: 0.6731 - accuracy: 0.8244 - val_loss: 0.6567 - val_accuracy: 0.8224\n",
      "Epoch 10/100\n",
      "469/469 [==============================] - 1s 2ms/step - loss: 0.6484 - accuracy: 0.8278 - val_loss: 0.6367 - val_accuracy: 0.8244\n",
      "Epoch 11/100\n",
      "469/469 [==============================] - 1s 2ms/step - loss: 0.6287 - accuracy: 0.8311 - val_loss: 0.6232 - val_accuracy: 0.8309\n",
      "Epoch 12/100\n",
      "469/469 [==============================] - 1s 2ms/step - loss: 0.6129 - accuracy: 0.8344 - val_loss: 0.6058 - val_accuracy: 0.8314\n",
      "Epoch 13/100\n",
      "469/469 [==============================] - 1s 2ms/step - loss: 0.5997 - accuracy: 0.8363 - val_loss: 0.5950 - val_accuracy: 0.8324\n",
      "Epoch 14/100\n",
      "469/469 [==============================] - 1s 2ms/step - loss: 0.5886 - accuracy: 0.8390 - val_loss: 0.5865 - val_accuracy: 0.8338\n",
      "Epoch 15/100\n",
      "469/469 [==============================] - 1s 2ms/step - loss: 0.5791 - accuracy: 0.8403 - val_loss: 0.5788 - val_accuracy: 0.8366\n",
      "Epoch 16/100\n",
      "469/469 [==============================] - 1s 2ms/step - loss: 0.5707 - accuracy: 0.8420 - val_loss: 0.5728 - val_accuracy: 0.8387\n",
      "Epoch 17/100\n",
      "469/469 [==============================] - 1s 2ms/step - loss: 0.5636 - accuracy: 0.8425 - val_loss: 0.5644 - val_accuracy: 0.8401\n",
      "Epoch 18/100\n",
      "469/469 [==============================] - 1s 2ms/step - loss: 0.5574 - accuracy: 0.8438 - val_loss: 0.5632 - val_accuracy: 0.8400\n",
      "Epoch 19/100\n",
      "469/469 [==============================] - 1s 2ms/step - loss: 0.5518 - accuracy: 0.8451 - val_loss: 0.5588 - val_accuracy: 0.8408\n",
      "Epoch 20/100\n",
      "469/469 [==============================] - 1s 2ms/step - loss: 0.5470 - accuracy: 0.8458 - val_loss: 0.5509 - val_accuracy: 0.8431\n",
      "Epoch 21/100\n",
      "469/469 [==============================] - 2s 4ms/step - loss: 0.5428 - accuracy: 0.8463 - val_loss: 0.5503 - val_accuracy: 0.8428\n",
      "Epoch 22/100\n",
      "469/469 [==============================] - 1s 2ms/step - loss: 0.5389 - accuracy: 0.8479 - val_loss: 0.5472 - val_accuracy: 0.8412\n",
      "Epoch 23/100\n",
      "469/469 [==============================] - 1s 2ms/step - loss: 0.5352 - accuracy: 0.8481 - val_loss: 0.5428 - val_accuracy: 0.8446\n",
      "Epoch 24/100\n",
      "469/469 [==============================] - 1s 3ms/step - loss: 0.5323 - accuracy: 0.8490 - val_loss: 0.5401 - val_accuracy: 0.8456\n",
      "Epoch 25/100\n",
      "469/469 [==============================] - 2s 4ms/step - loss: 0.5294 - accuracy: 0.8496 - val_loss: 0.5402 - val_accuracy: 0.8439\n",
      "Epoch 26/100\n",
      "469/469 [==============================] - 2s 4ms/step - loss: 0.5269 - accuracy: 0.8500 - val_loss: 0.5366 - val_accuracy: 0.8451\n",
      "Epoch 27/100\n",
      "469/469 [==============================] - 2s 4ms/step - loss: 0.5245 - accuracy: 0.8504 - val_loss: 0.5371 - val_accuracy: 0.8450\n",
      "Epoch 28/100\n",
      "469/469 [==============================] - 2s 5ms/step - loss: 0.5226 - accuracy: 0.8507 - val_loss: 0.5345 - val_accuracy: 0.8446\n",
      "Epoch 29/100\n",
      "469/469 [==============================] - 2s 4ms/step - loss: 0.5202 - accuracy: 0.8512 - val_loss: 0.5324 - val_accuracy: 0.8454\n",
      "Epoch 30/100\n",
      "469/469 [==============================] - 2s 4ms/step - loss: 0.5186 - accuracy: 0.8515 - val_loss: 0.5310 - val_accuracy: 0.8460\n",
      "Epoch 31/100\n",
      "469/469 [==============================] - 1s 2ms/step - loss: 0.5172 - accuracy: 0.8523 - val_loss: 0.5301 - val_accuracy: 0.8479\n",
      "Epoch 32/100\n",
      "469/469 [==============================] - 2s 5ms/step - loss: 0.5154 - accuracy: 0.8522 - val_loss: 0.5281 - val_accuracy: 0.8460\n",
      "Epoch 33/100\n",
      "469/469 [==============================] - 2s 4ms/step - loss: 0.5141 - accuracy: 0.8523 - val_loss: 0.5282 - val_accuracy: 0.8444\n",
      "Epoch 34/100\n",
      "469/469 [==============================] - 2s 3ms/step - loss: 0.5127 - accuracy: 0.8535 - val_loss: 0.5284 - val_accuracy: 0.8457\n",
      "Epoch 35/100\n",
      "469/469 [==============================] - 2s 3ms/step - loss: 0.5111 - accuracy: 0.8533 - val_loss: 0.5284 - val_accuracy: 0.8458\n",
      "Epoch 36/100\n",
      "469/469 [==============================] - 1s 3ms/step - loss: 0.5101 - accuracy: 0.8537 - val_loss: 0.5255 - val_accuracy: 0.8452\n",
      "Epoch 37/100\n",
      "469/469 [==============================] - 1s 3ms/step - loss: 0.5089 - accuracy: 0.8543 - val_loss: 0.5229 - val_accuracy: 0.8485\n",
      "Epoch 38/100\n",
      "469/469 [==============================] - 1s 3ms/step - loss: 0.5077 - accuracy: 0.8542 - val_loss: 0.5234 - val_accuracy: 0.8459\n",
      "Epoch 39/100\n",
      "469/469 [==============================] - 1s 3ms/step - loss: 0.5066 - accuracy: 0.8548 - val_loss: 0.5210 - val_accuracy: 0.8460\n",
      "Epoch 40/100\n",
      "469/469 [==============================] - 1s 3ms/step - loss: 0.5057 - accuracy: 0.8549 - val_loss: 0.5212 - val_accuracy: 0.8466\n",
      "Epoch 41/100\n",
      "469/469 [==============================] - 1s 3ms/step - loss: 0.5047 - accuracy: 0.8548 - val_loss: 0.5213 - val_accuracy: 0.8484\n",
      "Epoch 42/100\n",
      "469/469 [==============================] - 1s 3ms/step - loss: 0.5038 - accuracy: 0.8552 - val_loss: 0.5219 - val_accuracy: 0.8451\n",
      "Epoch 43/100\n",
      "469/469 [==============================] - 1s 3ms/step - loss: 0.5026 - accuracy: 0.8555 - val_loss: 0.5197 - val_accuracy: 0.8477\n",
      "Epoch 44/100\n",
      "469/469 [==============================] - 2s 3ms/step - loss: 0.5021 - accuracy: 0.8554 - val_loss: 0.5222 - val_accuracy: 0.8452\n",
      "Epoch 45/100\n",
      "469/469 [==============================] - 1s 3ms/step - loss: 0.5012 - accuracy: 0.8555 - val_loss: 0.5187 - val_accuracy: 0.8463\n",
      "Epoch 46/100\n",
      "469/469 [==============================] - 1s 3ms/step - loss: 0.5002 - accuracy: 0.8556 - val_loss: 0.5201 - val_accuracy: 0.8466\n",
      "Epoch 47/100\n",
      "469/469 [==============================] - 1s 3ms/step - loss: 0.4995 - accuracy: 0.8565 - val_loss: 0.5193 - val_accuracy: 0.8466\n",
      "Epoch 48/100\n",
      "469/469 [==============================] - 1s 3ms/step - loss: 0.4987 - accuracy: 0.8563 - val_loss: 0.5167 - val_accuracy: 0.8476\n",
      "Epoch 49/100\n",
      "469/469 [==============================] - 1s 3ms/step - loss: 0.4981 - accuracy: 0.8560 - val_loss: 0.5165 - val_accuracy: 0.8487\n",
      "Epoch 50/100\n",
      "469/469 [==============================] - 1s 3ms/step - loss: 0.4977 - accuracy: 0.8567 - val_loss: 0.5142 - val_accuracy: 0.8481\n",
      "Epoch 51/100\n",
      "469/469 [==============================] - 1s 3ms/step - loss: 0.4968 - accuracy: 0.8567 - val_loss: 0.5147 - val_accuracy: 0.8501\n",
      "Epoch 52/100\n"
     ]
    },
    {
     "name": "stdout",
     "output_type": "stream",
     "text": [
      "469/469 [==============================] - 1s 2ms/step - loss: 0.4964 - accuracy: 0.8570 - val_loss: 0.5138 - val_accuracy: 0.8475\n",
      "Epoch 53/100\n",
      "469/469 [==============================] - 2s 3ms/step - loss: 0.4957 - accuracy: 0.8569 - val_loss: 0.5142 - val_accuracy: 0.8470\n",
      "Epoch 54/100\n",
      "469/469 [==============================] - 1s 3ms/step - loss: 0.4950 - accuracy: 0.8568 - val_loss: 0.5132 - val_accuracy: 0.8486\n",
      "Epoch 55/100\n",
      "469/469 [==============================] - 1s 3ms/step - loss: 0.4942 - accuracy: 0.8565 - val_loss: 0.5126 - val_accuracy: 0.8481\n",
      "Epoch 56/100\n",
      "469/469 [==============================] - 1s 3ms/step - loss: 0.4939 - accuracy: 0.8571 - val_loss: 0.5140 - val_accuracy: 0.8493\n",
      "Epoch 57/100\n",
      "469/469 [==============================] - 1s 2ms/step - loss: 0.4932 - accuracy: 0.8576 - val_loss: 0.5158 - val_accuracy: 0.8472\n",
      "Epoch 58/100\n",
      "469/469 [==============================] - 1s 3ms/step - loss: 0.4927 - accuracy: 0.8578 - val_loss: 0.5117 - val_accuracy: 0.8494\n",
      "Epoch 59/100\n",
      "469/469 [==============================] - 2s 4ms/step - loss: 0.4919 - accuracy: 0.8573 - val_loss: 0.5110 - val_accuracy: 0.8491\n",
      "Epoch 60/100\n",
      "469/469 [==============================] - 2s 4ms/step - loss: 0.4920 - accuracy: 0.8572 - val_loss: 0.5116 - val_accuracy: 0.8498\n",
      "Epoch 61/100\n",
      "469/469 [==============================] - 2s 4ms/step - loss: 0.4915 - accuracy: 0.8577 - val_loss: 0.5124 - val_accuracy: 0.8483\n",
      "Epoch 62/100\n",
      "469/469 [==============================] - 2s 4ms/step - loss: 0.4908 - accuracy: 0.8580 - val_loss: 0.5116 - val_accuracy: 0.8483\n",
      "Epoch 63/100\n",
      "469/469 [==============================] - 2s 4ms/step - loss: 0.4902 - accuracy: 0.8572 - val_loss: 0.5098 - val_accuracy: 0.8505\n",
      "Epoch 64/100\n",
      "469/469 [==============================] - 1s 3ms/step - loss: 0.4900 - accuracy: 0.8586 - val_loss: 0.5108 - val_accuracy: 0.8495\n",
      "Epoch 65/100\n",
      "469/469 [==============================] - 1s 2ms/step - loss: 0.4894 - accuracy: 0.8583 - val_loss: 0.5101 - val_accuracy: 0.8479\n",
      "Epoch 66/100\n",
      "469/469 [==============================] - 2s 4ms/step - loss: 0.4890 - accuracy: 0.8583 - val_loss: 0.5113 - val_accuracy: 0.8481\n",
      "Epoch 67/100\n",
      "469/469 [==============================] - 2s 3ms/step - loss: 0.4888 - accuracy: 0.8590 - val_loss: 0.5089 - val_accuracy: 0.8502\n",
      "Epoch 68/100\n",
      "469/469 [==============================] - 2s 3ms/step - loss: 0.4882 - accuracy: 0.8585 - val_loss: 0.5074 - val_accuracy: 0.8491\n",
      "Epoch 69/100\n",
      "469/469 [==============================] - 2s 3ms/step - loss: 0.4878 - accuracy: 0.8583 - val_loss: 0.5089 - val_accuracy: 0.8492\n",
      "Epoch 70/100\n",
      "469/469 [==============================] - 2s 4ms/step - loss: 0.4874 - accuracy: 0.8584 - val_loss: 0.5084 - val_accuracy: 0.8516\n",
      "Epoch 71/100\n",
      "469/469 [==============================] - 2s 3ms/step - loss: 0.4868 - accuracy: 0.8583 - val_loss: 0.5077 - val_accuracy: 0.8507\n",
      "Epoch 72/100\n",
      "453/469 [===========================>..] - ETA: 0s - loss: 0.4865 - accuracy: 0.8589Restoring model weights from the end of the best epoch: 68.\n",
      "469/469 [==============================] - 1s 2ms/step - loss: 0.4866 - accuracy: 0.8590 - val_loss: 0.5084 - val_accuracy: 0.8494\n",
      "Epoch 72: early stopping\n",
      "Test loss: 0.5074353218078613\n",
      "Test accuracy: 0.8490999937057495\n"
     ]
    }
   ],
   "source": [
    "x_train = x_train.astype('float32')\n",
    "x_test = x_test.astype('float32')\n",
    "x_train /= 255\n",
    "x_test /= 255\n",
    "y_train = to_categorical(y_train, num_classes=10)\n",
    "y_test = to_categorical(y_test, num_classes=10)\n",
    "\n",
    "# Initialize the constructor\n",
    "model = Sequential()\n",
    "\n",
    "# Add an input layer which is equivalent to the size of MNIST dataset and flatten the 28x28 image to a 784 vector\n",
    "model.add(Flatten(input_shape=(28, 28)))\n",
    "\n",
    "# Add one hidden layer with 4 neurons and sigmoid activation\n",
    "model.add(Dense(4, activation='sigmoid'))\n",
    "\n",
    "# Add an output layer with softmax activation since it is a multi-class classification problem\n",
    "model.add(Dense(10, activation='softmax'))\n",
    "\n",
    "# Compile the model\n",
    "model.compile(optimizer='rmsprop',\n",
    "              loss='categorical_crossentropy',\n",
    "              metrics=['accuracy'])\n",
    "\n",
    "# Print the model summary to check if everything is fine\n",
    "model.summary()\n",
    "\n",
    "# Define early stopping callback\n",
    "early_stopping = EarlyStopping(monitor='val_loss', patience=4, verbose=1, mode='min', restore_best_weights=True)\n",
    "\n",
    "# Train the model with early stopping\n",
    "history = model.fit(x_train, y_train, epochs=100, batch_size=128, validation_data=(x_test, y_test), callbacks=[early_stopping])\n",
    "\n",
    "# Evaluate the model on the test data\n",
    "score = model.evaluate(x_test, y_test, verbose=0)\n",
    "print('Test loss:', score[0])\n",
    "print('Test accuracy:', score[1])"
   ]
  },
  {
   "cell_type": "markdown",
   "metadata": {
    "hidden": true
   },
   "source": [
    "Que vaut le score F1?"
   ]
  },
  {
   "cell_type": "code",
   "execution_count": 25,
   "metadata": {
    "hidden": true,
    "scrolled": true
   },
   "outputs": [
    {
     "name": "stdout",
     "output_type": "stream",
     "text": [
      "Weighted F1 score: 0.8484580450502708\n"
     ]
    },
    {
     "data": {
      "text/plain": [
       "<sklearn.metrics._plot.confusion_matrix.ConfusionMatrixDisplay at 0x1cc4b9dee30>"
      ]
     },
     "execution_count": 25,
     "metadata": {},
     "output_type": "execute_result"
    },
    {
     "data": {
      "image/png": "[encoded data removed]",
      "text/plain": [
       "<Figure size 640x480 with 2 Axes>"
      ]
     },
     "metadata": {},
     "output_type": "display_data"
    }
   ],
   "source": [
    "y_pred = model.predict(x_test, verbose=0)\n",
    "y_pred_classes = np.argmax(y_pred, axis=1)\n",
    "\n",
    "# Convert y_test from one-hot encoded vectors to class labels\n",
    "y_test_classes = np.argmax(y_test, axis=1)\n",
    "\n",
    "# Calculate the F1 score\n",
    "f1 = f1_score(y_test_classes, y_pred_classes, average='weighted')\n",
    "print('Weighted F1 score:', f1)\n",
    "\n",
    "# Display the color-coded confusion matrix\n",
    "ConfusionMatrixDisplay.from_predictions(y_test_classes, y_pred_classes)"
   ]
  },
  {
   "cell_type": "code",
   "execution_count": 26,
   "metadata": {},
   "outputs": [
    {
     "data": {
      "image/png": "[encoded data removed]",
      "text/plain": [
       "<Figure size 640x480 with 1 Axes>"
      ]
     },
     "metadata": {},
     "output_type": "display_data"
    }
   ],
   "source": [
    "## Training and validation loss\n",
    "plt.plot(history.history['loss'], label='Training loss')\n",
    "plt.plot(history.history['val_loss'], label='Validation loss')\n",
    "plt.title('Training and validation loss')\n",
    "plt.ylabel('Loss')\n",
    "plt.xlabel('Epoch')\n",
    "plt.legend()\n",
    "plt.show()"
   ]
  },
  {
   "cell_type": "markdown",
   "metadata": {},
   "source": [
    "## One Hidden Layer - testing the number of neurons"
   ]
  },
  {
   "cell_type": "code",
   "execution_count": 31,
   "metadata": {},
   "outputs": [],
   "source": [
    "def create_model(num_neurons):\n",
    "    model = Sequential()\n",
    "    model.add(Flatten(input_shape=(28, 28)))\n",
    "    model.add(Dense(num_neurons, activation='sigmoid'))\n",
    "    model.add(Dense(10, activation='softmax'))\n",
    "    model.compile(optimizer='rmsprop',\n",
    "                  loss='categorical_crossentropy',\n",
    "                  metrics=['accuracy'])\n",
    "    return model\n",
    "\n",
    "def train_model(model, x_train, y_train, x_test, y_test):\n",
    "    early_stopping = EarlyStopping(monitor='val_loss', patience=4, verbose=1, mode='min', restore_best_weights=True)\n",
    "    history = model.fit(x_train, y_train, epochs=20, batch_size=128, validation_data=(x_test, y_test), callbacks=[early_stopping], verbose=0)\n",
    "    return model.evaluate(x_test, y_test, verbose=0)\n",
    "\n",
    "# Define a function to plot the accuracies\n",
    "def plot_accuracies(accuracies):\n",
    "    accuracy_values = list(accuracies.values())\n",
    "    neuron_labels = list(accuracies.keys())\n",
    "    plt.boxplot(accuracy_values, labels=neuron_labels)\n",
    "    plt.xlabel('Number of Neurons in the Hidden Layer')\n",
    "    plt.ylabel('Accuracy')\n",
    "    plt.title('ANN with only one hidden layer')\n",
    "    plt.show()"
   ]
  },
  {
   "cell_type": "code",
   "execution_count": 34,
   "metadata": {},
   "outputs": [
    {
     "name": "stdout",
     "output_type": "stream",
     "text": [
      "Trial 1/5 for 2 neurons, Test accuracy: 0.5292999744415283\n",
      "Trial 2/5 for 2 neurons, Test accuracy: 0.5152999758720398\n",
      "Trial 3/5 for 2 neurons, Test accuracy: 0.4375999867916107\n",
      "Trial 4/5 for 2 neurons, Test accuracy: 0.5267000198364258\n",
      "Trial 5/5 for 2 neurons, Test accuracy: 0.47429999709129333\n",
      "Trial 1/5 for 4 neurons, Test accuracy: 0.8418999910354614\n",
      "Trial 2/5 for 4 neurons, Test accuracy: 0.8184999823570251\n",
      "Trial 3/5 for 4 neurons, Test accuracy: 0.8420000076293945\n",
      "Trial 4/5 for 4 neurons, Test accuracy: 0.8274000287055969\n",
      "Trial 5/5 for 4 neurons, Test accuracy: 0.8338000178337097\n",
      "Trial 1/5 for 6 neurons, Test accuracy: 0.8970999717712402\n",
      "Trial 2/5 for 6 neurons, Test accuracy: 0.8902000188827515\n",
      "Trial 3/5 for 6 neurons, Test accuracy: 0.894599974155426\n",
      "Trial 4/5 for 6 neurons, Test accuracy: 0.892300009727478\n",
      "Trial 5/5 for 6 neurons, Test accuracy: 0.8895000219345093\n",
      "Trial 1/5 for 8 neurons, Test accuracy: 0.9211000204086304\n",
      "Trial 2/5 for 8 neurons, Test accuracy: 0.917900025844574\n",
      "Trial 3/5 for 8 neurons, Test accuracy: 0.9157999753952026\n",
      "Trial 4/5 for 8 neurons, Test accuracy: 0.9136999845504761\n",
      "Trial 5/5 for 8 neurons, Test accuracy: 0.9185000061988831\n",
      "Trial 1/5 for 10 neurons, Test accuracy: 0.9307000041007996\n",
      "Trial 2/5 for 10 neurons, Test accuracy: 0.925000011920929\n",
      "Trial 3/5 for 10 neurons, Test accuracy: 0.9284999966621399\n",
      "Trial 4/5 for 10 neurons, Test accuracy: 0.9279999732971191\n",
      "Trial 5/5 for 10 neurons, Test accuracy: 0.9207000136375427\n",
      "Trial 1/5 for 20 neurons, Test accuracy: 0.949999988079071\n",
      "Trial 2/5 for 20 neurons, Test accuracy: 0.9484999775886536\n",
      "Trial 3/5 for 20 neurons, Test accuracy: 0.9509000182151794\n",
      "Trial 4/5 for 20 neurons, Test accuracy: 0.9474999904632568\n",
      "Trial 5/5 for 20 neurons, Test accuracy: 0.9491000175476074\n",
      "Trial 1/5 for 40 neurons, Test accuracy: 0.964900016784668\n",
      "Trial 2/5 for 40 neurons, Test accuracy: 0.9638000130653381\n",
      "Trial 3/5 for 40 neurons, Test accuracy: 0.965399980545044\n",
      "Trial 4/5 for 40 neurons, Test accuracy: 0.9656999707221985\n",
      "Trial 5/5 for 40 neurons, Test accuracy: 0.9642000198364258\n",
      "Trial 1/5 for 60 neurons, Test accuracy: 0.9693999886512756\n",
      "Trial 2/5 for 60 neurons, Test accuracy: 0.9696999788284302\n",
      "Trial 3/5 for 60 neurons, Test accuracy: 0.9702000021934509\n",
      "Trial 4/5 for 60 neurons, Test accuracy: 0.9699000120162964\n",
      "Trial 5/5 for 60 neurons, Test accuracy: 0.9695000052452087\n",
      "Trial 1/5 for 80 neurons, Test accuracy: 0.9735999703407288\n",
      "Trial 2/5 for 80 neurons, Test accuracy: 0.9736999869346619\n",
      "Trial 3/5 for 80 neurons, Test accuracy: 0.9745000004768372\n",
      "Trial 4/5 for 80 neurons, Test accuracy: 0.9731000065803528\n",
      "Trial 5/5 for 80 neurons, Test accuracy: 0.9731000065803528\n",
      "Trial 1/5 for 100 neurons, Test accuracy: 0.9739000201225281\n",
      "Trial 2/5 for 100 neurons, Test accuracy: 0.9758999943733215\n",
      "Trial 3/5 for 100 neurons, Test accuracy: 0.975600004196167\n",
      "Trial 4/5 for 100 neurons, Test accuracy: 0.9747999906539917\n",
      "Trial 5/5 for 100 neurons, Test accuracy: 0.9736999869346619\n",
      "Trial 1/5 for 150 neurons, Test accuracy: 0.9765999913215637\n",
      "Trial 2/5 for 150 neurons, Test accuracy: 0.9789000153541565\n",
      "Trial 3/5 for 150 neurons, Test accuracy: 0.9775000214576721\n",
      "Trial 4/5 for 150 neurons, Test accuracy: 0.9757000207901001\n",
      "Trial 5/5 for 150 neurons, Test accuracy: 0.9779999852180481\n",
      "Trial 1/5 for 200 neurons, Test accuracy: 0.9783999919891357\n",
      "Trial 2/5 for 200 neurons, Test accuracy: 0.9815000295639038\n",
      "Trial 3/5 for 200 neurons, Test accuracy: 0.9805999994277954\n",
      "Trial 4/5 for 200 neurons, Test accuracy: 0.9782999753952026\n",
      "Trial 5/5 for 200 neurons, Test accuracy: 0.9793000221252441\n"
     ]
    },
    {
     "data": {
      "image/png": "[encoded data removed]",
      "text/plain": [
       "<Figure size 640x480 with 1 Axes>"
      ]
     },
     "metadata": {},
     "output_type": "display_data"
    }
   ],
   "source": [
    "\n",
    "num_trials = 5 \n",
    "neuron_numbers = [2, 4, 6, 8, 10, 20, 40, 60, 80, 100, 150, 200]\n",
    "\n",
    "\n",
    "accuracies = {neurons: [] for neurons in neuron_numbers}\n",
    "\n",
    "\n",
    "for neurons in neuron_numbers:\n",
    "    trial_accuracies = []\n",
    "    for trial in range(num_trials):\n",
    "        model = create_model(neurons)\n",
    "        loss, accuracy = train_model(model, x_train, y_train, x_test, y_test)\n",
    "        trial_accuracies.append(accuracy)\n",
    "        print(f'Trial {trial+1}/{num_trials} for {neurons} neurons, Test accuracy: {accuracy}')\n",
    "    accuracies[neurons] = trial_accuracies\n",
    "\n",
    "\n",
    "plot_accuracies(accuracies)"
   ]
  },
  {
   "cell_type": "markdown",
   "metadata": {},
   "source": [
    "## Testing number of hidden layers"
   ]
  },
  {
   "cell_type": "code",
   "execution_count": 39,
   "metadata": {},
   "outputs": [
    {
     "name": "stdout",
     "output_type": "stream",
     "text": [
      "Trial 1/5, Fixed Neurons: 20, Hidden Layers: 1, Test loss: 0.1633559614419937, Test accuracy: 0.9535999894142151\n",
      "Trial 2/5, Fixed Neurons: 20, Hidden Layers: 1, Test loss: 0.1750641167163849, Test accuracy: 0.9492999911308289\n",
      "Trial 3/5, Fixed Neurons: 20, Hidden Layers: 1, Test loss: 0.1633298248052597, Test accuracy: 0.9524000287055969\n",
      "Trial 4/5, Fixed Neurons: 20, Hidden Layers: 1, Test loss: 0.16372400522232056, Test accuracy: 0.9520000219345093\n",
      "Trial 5/5, Fixed Neurons: 20, Hidden Layers: 1, Test loss: 0.16030031442642212, Test accuracy: 0.9523000121116638\n",
      "Trial 1/5, Fixed Neurons: 20, Hidden Layers: 2, Test loss: 0.16494126617908478, Test accuracy: 0.9523000121116638\n",
      "Trial 2/5, Fixed Neurons: 20, Hidden Layers: 2, Test loss: 0.14829286932945251, Test accuracy: 0.9563999772071838\n",
      "Trial 3/5, Fixed Neurons: 20, Hidden Layers: 2, Test loss: 0.15690813958644867, Test accuracy: 0.954200029373169\n",
      "Trial 4/5, Fixed Neurons: 20, Hidden Layers: 2, Test loss: 0.157231867313385, Test accuracy: 0.9532999992370605\n",
      "Trial 5/5, Fixed Neurons: 20, Hidden Layers: 2, Test loss: 0.16121184825897217, Test accuracy: 0.9510999917984009\n",
      "Trial 1/5, Fixed Neurons: 20, Hidden Layers: 3, Test loss: 0.1815662682056427, Test accuracy: 0.9483000040054321\n",
      "Trial 2/5, Fixed Neurons: 20, Hidden Layers: 3, Test loss: 0.18436218798160553, Test accuracy: 0.9502999782562256\n",
      "Trial 3/5, Fixed Neurons: 20, Hidden Layers: 3, Test loss: 0.16720132529735565, Test accuracy: 0.9521999955177307\n",
      "Trial 4/5, Fixed Neurons: 20, Hidden Layers: 3, Test loss: 0.18214519321918488, Test accuracy: 0.9508000016212463\n",
      "Trial 5/5, Fixed Neurons: 20, Hidden Layers: 3, Test loss: 0.19037581980228424, Test accuracy: 0.9466000199317932\n",
      "Trial 1/5, Fixed Neurons: 20, Hidden Layers: 4, Test loss: 0.22201400995254517, Test accuracy: 0.9413999915122986\n",
      "Trial 2/5, Fixed Neurons: 20, Hidden Layers: 4, Test loss: 0.23586122691631317, Test accuracy: 0.9381999969482422\n",
      "Trial 3/5, Fixed Neurons: 20, Hidden Layers: 4, Test loss: 0.25682857632637024, Test accuracy: 0.9334999918937683\n",
      "Trial 4/5, Fixed Neurons: 20, Hidden Layers: 4, Test loss: 0.24194130301475525, Test accuracy: 0.9376000165939331\n",
      "Trial 5/5, Fixed Neurons: 20, Hidden Layers: 4, Test loss: 0.2707911431789398, Test accuracy: 0.9296000003814697\n",
      "Trial 1/5, Fixed Neurons: 20, Hidden Layers: 5, Test loss: 0.31299376487731934, Test accuracy: 0.9240999817848206\n",
      "Trial 2/5, Fixed Neurons: 20, Hidden Layers: 5, Test loss: 0.35209494829177856, Test accuracy: 0.911899983882904\n",
      "Trial 3/5, Fixed Neurons: 20, Hidden Layers: 5, Test loss: 0.3084464967250824, Test accuracy: 0.9230999946594238\n",
      "Trial 4/5, Fixed Neurons: 20, Hidden Layers: 5, Test loss: 0.5829175710678101, Test accuracy: 0.8278999924659729\n",
      "Trial 5/5, Fixed Neurons: 20, Hidden Layers: 5, Test loss: 0.3080170750617981, Test accuracy: 0.925599992275238\n"
     ]
    },
    {
     "data": {
      "image/png": "[encoded data removed]",
      "text/plain": [
       "<Figure size 1200x600 with 1 Axes>"
      ]
     },
     "metadata": {},
     "output_type": "display_data"
    }
   ],
   "source": [
    "def add_hidden_layers(model, num_neurons, num_hidden_layers):\n",
    "    for _ in range(num_hidden_layers):\n",
    "        model.add(Dense(num_neurons, activation='sigmoid'))\n",
    "    return model\n",
    "\n",
    "def create_and_train_multiple_hidden_layers(num_trials, fixed_neurons, num_hidden_layers, x_train, y_train, x_test, y_test):\n",
    "    accuracies_per_layer_count = {layers: [] for layers in num_hidden_layers}\n",
    "    \n",
    "    for num_layers in num_hidden_layers:\n",
    "        trial_accuracies = []\n",
    "        for trial in range(num_trials):\n",
    "            model = Sequential()\n",
    "            model.add(Flatten(input_shape=(28, 28)))\n",
    "            model = add_hidden_layers(model, fixed_neurons, num_layers)\n",
    "            model.add(Dense(10, activation='softmax'))\n",
    "            model.compile(optimizer='rmsprop', loss='categorical_crossentropy', metrics=['accuracy'])\n",
    "            \n",
    "            loss, accuracy = train_model(model, x_train, y_train, x_test, y_test)\n",
    "            trial_accuracies.append(accuracy)\n",
    "            print(f'Trial {trial+1}/{num_trials}, Fixed Neurons: {fixed_neurons}, Hidden Layers: {num_layers}, Test loss: {loss}, Test accuracy: {accuracy}')\n",
    "        \n",
    "        accuracies_per_layer_count[num_layers] = trial_accuracies\n",
    "    \n",
    "    return accuracies_per_layer_count\n",
    "\n",
    "# Now call this function\n",
    "num_trials = 5\n",
    "neuron_numbers = 20\n",
    "num_layers = [1, 2, 3, 4, 5]  # Example layer sizes\n",
    "\n",
    "all_accuracies = create_and_train_multiple_hidden_layers(num_trials, neuron_numbers, num_layers, x_train, y_train, x_test, y_test)\n",
    "\n",
    "# Then plot all accuracies\n",
    "plot_accuracies(all_accuracies)\n"
   ]
  },
  {
   "cell_type": "markdown",
   "metadata": {},
   "source": [
    "# 2. Convergence"
   ]
  },
  {
   "cell_type": "markdown",
   "metadata": {
    "heading_collapsed": true
   },
   "source": [
    "## A t-on laissé le temps à l'algorithme de converger?\n",
    "Modifiez le nombre d'itérations. Les résultats sont-ils meilleurs?"
   ]
  },
  {
   "cell_type": "markdown",
   "metadata": {
    "heading_collapsed": true
   },
   "source": [
    "## Critère d'arrêt autre que le nombre d'itérations"
   ]
  },
  {
   "cell_type": "markdown",
   "metadata": {
    "hidden": true
   },
   "source": [
    "In this small example, we decided, as a default behavior, to stop after 20 epochs. Of course this value can be changed. Another way to deal with that is to use early stopping criterion. All options are described in the keras documentation. Feel free to experiment all options!"
   ]
  },
  {
   "cell_type": "code",
   "execution_count": 18,
   "metadata": {
    "hidden": true
   },
   "outputs": [
    {
     "name": "stdout",
     "output_type": "stream",
     "text": [
      "Epoch 1/100\n",
      "375/375 [==============================] - 1s 2ms/step - loss: 0.5604 - accuracy: 0.8348 - val_loss: 0.5301 - val_accuracy: 0.8439\n",
      "Epoch 2/100\n",
      "375/375 [==============================] - 1s 2ms/step - loss: 0.5589 - accuracy: 0.8356 - val_loss: 0.5291 - val_accuracy: 0.8452\n",
      "Epoch 3/100\n",
      "375/375 [==============================] - 1s 2ms/step - loss: 0.5576 - accuracy: 0.8365 - val_loss: 0.5277 - val_accuracy: 0.8443\n",
      "Epoch 4/100\n",
      "375/375 [==============================] - 1s 3ms/step - loss: 0.5562 - accuracy: 0.8365 - val_loss: 0.5265 - val_accuracy: 0.8453\n",
      "Epoch 5/100\n",
      "375/375 [==============================] - 1s 3ms/step - loss: 0.5548 - accuracy: 0.8369 - val_loss: 0.5255 - val_accuracy: 0.8451\n",
      "Epoch 6/100\n",
      "375/375 [==============================] - 1s 3ms/step - loss: 0.5535 - accuracy: 0.8372 - val_loss: 0.5242 - val_accuracy: 0.8457\n",
      "Epoch 7/100\n",
      "375/375 [==============================] - 1s 2ms/step - loss: 0.5522 - accuracy: 0.8372 - val_loss: 0.5230 - val_accuracy: 0.8457\n",
      "Epoch 8/100\n",
      "375/375 [==============================] - 1s 3ms/step - loss: 0.5509 - accuracy: 0.8383 - val_loss: 0.5220 - val_accuracy: 0.8462\n",
      "Epoch 9/100\n",
      "375/375 [==============================] - 1s 3ms/step - loss: 0.5497 - accuracy: 0.8384 - val_loss: 0.5210 - val_accuracy: 0.8468\n",
      "Epoch 10/100\n",
      "375/375 [==============================] - 1s 3ms/step - loss: 0.5484 - accuracy: 0.8390 - val_loss: 0.5199 - val_accuracy: 0.8466\n",
      "Epoch 11/100\n",
      "375/375 [==============================] - 1s 3ms/step - loss: 0.5473 - accuracy: 0.8394 - val_loss: 0.5189 - val_accuracy: 0.8472\n",
      "Epoch 12/100\n",
      "375/375 [==============================] - 1s 3ms/step - loss: 0.5460 - accuracy: 0.8397 - val_loss: 0.5179 - val_accuracy: 0.8470\n",
      "Epoch 13/100\n",
      "375/375 [==============================] - 1s 2ms/step - loss: 0.5448 - accuracy: 0.8397 - val_loss: 0.5169 - val_accuracy: 0.8481\n",
      "Epoch 14/100\n",
      "375/375 [==============================] - 1s 3ms/step - loss: 0.5437 - accuracy: 0.8398 - val_loss: 0.5158 - val_accuracy: 0.8475\n",
      "Epoch 15/100\n",
      "375/375 [==============================] - 1s 3ms/step - loss: 0.5426 - accuracy: 0.8402 - val_loss: 0.5151 - val_accuracy: 0.8485\n",
      "Epoch 16/100\n",
      "375/375 [==============================] - 1s 3ms/step - loss: 0.5415 - accuracy: 0.8409 - val_loss: 0.5142 - val_accuracy: 0.8488\n",
      "Epoch 17/100\n",
      "375/375 [==============================] - 1s 3ms/step - loss: 0.5404 - accuracy: 0.8414 - val_loss: 0.5129 - val_accuracy: 0.8474\n",
      "Epoch 18/100\n",
      "375/375 [==============================] - 1s 3ms/step - loss: 0.5393 - accuracy: 0.8413 - val_loss: 0.5124 - val_accuracy: 0.8487\n",
      "Epoch 19/100\n",
      "375/375 [==============================] - 1s 3ms/step - loss: 0.5383 - accuracy: 0.8419 - val_loss: 0.5111 - val_accuracy: 0.8489\n",
      "Epoch 20/100\n",
      "375/375 [==============================] - 1s 3ms/step - loss: 0.5372 - accuracy: 0.8422 - val_loss: 0.5104 - val_accuracy: 0.8493\n",
      "Epoch 21/100\n",
      "375/375 [==============================] - 1s 3ms/step - loss: 0.5362 - accuracy: 0.8428 - val_loss: 0.5094 - val_accuracy: 0.8493\n",
      "Epoch 22/100\n",
      "375/375 [==============================] - 1s 3ms/step - loss: 0.5352 - accuracy: 0.8428 - val_loss: 0.5086 - val_accuracy: 0.8494\n",
      "Epoch 23/100\n",
      "375/375 [==============================] - 1s 3ms/step - loss: 0.5342 - accuracy: 0.8434 - val_loss: 0.5077 - val_accuracy: 0.8498\n",
      "Epoch 24/100\n",
      "375/375 [==============================] - 1s 3ms/step - loss: 0.5333 - accuracy: 0.8437 - val_loss: 0.5069 - val_accuracy: 0.8498\n",
      "Epoch 25/100\n",
      "375/375 [==============================] - 1s 2ms/step - loss: 0.5323 - accuracy: 0.8444 - val_loss: 0.5061 - val_accuracy: 0.8503\n",
      "Epoch 26/100\n",
      "375/375 [==============================] - 1s 3ms/step - loss: 0.5314 - accuracy: 0.8444 - val_loss: 0.5053 - val_accuracy: 0.8494\n",
      "Epoch 27/100\n",
      "375/375 [==============================] - 1s 2ms/step - loss: 0.5305 - accuracy: 0.8446 - val_loss: 0.5045 - val_accuracy: 0.8508\n",
      "Epoch 28/100\n",
      "375/375 [==============================] - 1s 3ms/step - loss: 0.5296 - accuracy: 0.8451 - val_loss: 0.5036 - val_accuracy: 0.8500\n",
      "Epoch 29/100\n",
      "375/375 [==============================] - 1s 3ms/step - loss: 0.5287 - accuracy: 0.8457 - val_loss: 0.5030 - val_accuracy: 0.8502\n",
      "Epoch 30/100\n",
      "375/375 [==============================] - 1s 2ms/step - loss: 0.5278 - accuracy: 0.8457 - val_loss: 0.5021 - val_accuracy: 0.8513\n",
      "Epoch 31/100\n",
      "375/375 [==============================] - 1s 3ms/step - loss: 0.5269 - accuracy: 0.8459 - val_loss: 0.5016 - val_accuracy: 0.8518\n",
      "Epoch 32/100\n",
      "375/375 [==============================] - 1s 3ms/step - loss: 0.5261 - accuracy: 0.8461 - val_loss: 0.5006 - val_accuracy: 0.8514\n",
      "Epoch 33/100\n",
      "375/375 [==============================] - 1s 3ms/step - loss: 0.5252 - accuracy: 0.8461 - val_loss: 0.4998 - val_accuracy: 0.8507\n",
      "Epoch 34/100\n",
      "375/375 [==============================] - 1s 3ms/step - loss: 0.5244 - accuracy: 0.8470 - val_loss: 0.4992 - val_accuracy: 0.8528\n",
      "Epoch 35/100\n",
      "375/375 [==============================] - 1s 4ms/step - loss: 0.5236 - accuracy: 0.8466 - val_loss: 0.4983 - val_accuracy: 0.8521\n",
      "Epoch 36/100\n",
      "375/375 [==============================] - 1s 3ms/step - loss: 0.5228 - accuracy: 0.8472 - val_loss: 0.4977 - val_accuracy: 0.8524\n",
      "Epoch 37/100\n",
      "375/375 [==============================] - 1s 4ms/step - loss: 0.5220 - accuracy: 0.8472 - val_loss: 0.4969 - val_accuracy: 0.8533\n",
      "Epoch 38/100\n",
      "375/375 [==============================] - 1s 3ms/step - loss: 0.5212 - accuracy: 0.8473 - val_loss: 0.4967 - val_accuracy: 0.8540\n",
      "Epoch 39/100\n",
      "375/375 [==============================] - 1s 3ms/step - loss: 0.5205 - accuracy: 0.8477 - val_loss: 0.4957 - val_accuracy: 0.8530\n",
      "Epoch 40/100\n",
      "375/375 [==============================] - 1s 3ms/step - loss: 0.5197 - accuracy: 0.8475 - val_loss: 0.4952 - val_accuracy: 0.8537\n",
      "Epoch 41/100\n",
      "375/375 [==============================] - 1s 3ms/step - loss: 0.5189 - accuracy: 0.8484 - val_loss: 0.4944 - val_accuracy: 0.8528\n",
      "Epoch 42/100\n",
      "375/375 [==============================] - 1s 3ms/step - loss: 0.5183 - accuracy: 0.8482 - val_loss: 0.4936 - val_accuracy: 0.8538\n",
      "Epoch 43/100\n",
      "375/375 [==============================] - 1s 3ms/step - loss: 0.5175 - accuracy: 0.8486 - val_loss: 0.4932 - val_accuracy: 0.8546\n",
      "Epoch 44/100\n",
      "375/375 [==============================] - 1s 3ms/step - loss: 0.5168 - accuracy: 0.8489 - val_loss: 0.4923 - val_accuracy: 0.8538\n",
      "Epoch 45/100\n",
      "375/375 [==============================] - 1s 3ms/step - loss: 0.5161 - accuracy: 0.8487 - val_loss: 0.4920 - val_accuracy: 0.8544\n",
      "Epoch 46/100\n",
      "375/375 [==============================] - 1s 3ms/step - loss: 0.5154 - accuracy: 0.8491 - val_loss: 0.4911 - val_accuracy: 0.8545\n",
      "Epoch 47/100\n",
      "375/375 [==============================] - 1s 4ms/step - loss: 0.5147 - accuracy: 0.8496 - val_loss: 0.4909 - val_accuracy: 0.8541\n",
      "Epoch 48/100\n",
      "375/375 [==============================] - 1s 3ms/step - loss: 0.5140 - accuracy: 0.8496 - val_loss: 0.4900 - val_accuracy: 0.8553\n",
      "Epoch 49/100\n",
      "375/375 [==============================] - 1s 4ms/step - loss: 0.5134 - accuracy: 0.8502 - val_loss: 0.4894 - val_accuracy: 0.8547\n",
      "Epoch 50/100\n",
      "375/375 [==============================] - 2s 4ms/step - loss: 0.5128 - accuracy: 0.8499 - val_loss: 0.4890 - val_accuracy: 0.8544\n",
      "Epoch 51/100\n",
      "375/375 [==============================] - 1s 4ms/step - loss: 0.5120 - accuracy: 0.8498 - val_loss: 0.4883 - val_accuracy: 0.8553\n",
      "Epoch 52/100\n",
      "375/375 [==============================] - 1s 3ms/step - loss: 0.5115 - accuracy: 0.8505 - val_loss: 0.4877 - val_accuracy: 0.8553\n",
      "Epoch 53/100\n",
      "375/375 [==============================] - 1s 4ms/step - loss: 0.5108 - accuracy: 0.8506 - val_loss: 0.4873 - val_accuracy: 0.8556\n",
      "Epoch 54/100\n",
      "375/375 [==============================] - 2s 5ms/step - loss: 0.5102 - accuracy: 0.8510 - val_loss: 0.4866 - val_accuracy: 0.8545\n",
      "Epoch 55/100\n",
      "375/375 [==============================] - 1s 3ms/step - loss: 0.5096 - accuracy: 0.8509 - val_loss: 0.4861 - val_accuracy: 0.8556\n",
      "Epoch 56/100\n",
      "375/375 [==============================] - 1s 3ms/step - loss: 0.5089 - accuracy: 0.8514 - val_loss: 0.4856 - val_accuracy: 0.8564\n",
      "Epoch 57/100\n",
      "375/375 [==============================] - 1s 3ms/step - loss: 0.5084 - accuracy: 0.8515 - val_loss: 0.4851 - val_accuracy: 0.8555\n"
     ]
    },
    {
     "name": "stdout",
     "output_type": "stream",
     "text": [
      "Epoch 58/100\n",
      "375/375 [==============================] - 1s 3ms/step - loss: 0.5076 - accuracy: 0.8515 - val_loss: 0.4842 - val_accuracy: 0.8572\n",
      "Epoch 59/100\n",
      "375/375 [==============================] - 1s 3ms/step - loss: 0.5071 - accuracy: 0.8521 - val_loss: 0.4840 - val_accuracy: 0.8570\n",
      "Epoch 60/100\n",
      "375/375 [==============================] - 1s 3ms/step - loss: 0.5066 - accuracy: 0.8519 - val_loss: 0.4834 - val_accuracy: 0.8570\n",
      "Epoch 61/100\n",
      "375/375 [==============================] - 1s 3ms/step - loss: 0.5060 - accuracy: 0.8523 - val_loss: 0.4833 - val_accuracy: 0.8564\n",
      "Epoch 62/100\n",
      "375/375 [==============================] - 1s 3ms/step - loss: 0.5055 - accuracy: 0.8519 - val_loss: 0.4825 - val_accuracy: 0.8575\n",
      "Epoch 63/100\n",
      "375/375 [==============================] - 1s 3ms/step - loss: 0.5049 - accuracy: 0.8526 - val_loss: 0.4823 - val_accuracy: 0.8576\n",
      "Epoch 64/100\n",
      "375/375 [==============================] - 1s 3ms/step - loss: 0.5043 - accuracy: 0.8525 - val_loss: 0.4813 - val_accuracy: 0.8580\n",
      "Epoch 65/100\n",
      "375/375 [==============================] - 1s 3ms/step - loss: 0.5038 - accuracy: 0.8529 - val_loss: 0.4809 - val_accuracy: 0.8575\n",
      "Epoch 66/100\n",
      "375/375 [==============================] - 1s 3ms/step - loss: 0.5032 - accuracy: 0.8532 - val_loss: 0.4807 - val_accuracy: 0.8581\n",
      "Epoch 67/100\n",
      "375/375 [==============================] - 1s 3ms/step - loss: 0.5028 - accuracy: 0.8528 - val_loss: 0.4800 - val_accuracy: 0.8587\n",
      "Epoch 68/100\n",
      "375/375 [==============================] - 1s 3ms/step - loss: 0.5022 - accuracy: 0.8536 - val_loss: 0.4795 - val_accuracy: 0.8585\n",
      "Epoch 69/100\n",
      "375/375 [==============================] - 1s 3ms/step - loss: 0.5017 - accuracy: 0.8535 - val_loss: 0.4790 - val_accuracy: 0.8568\n",
      "Epoch 70/100\n",
      "375/375 [==============================] - 1s 3ms/step - loss: 0.5012 - accuracy: 0.8536 - val_loss: 0.4789 - val_accuracy: 0.8587\n",
      "Epoch 71/100\n",
      "375/375 [==============================] - 1s 3ms/step - loss: 0.5007 - accuracy: 0.8538 - val_loss: 0.4784 - val_accuracy: 0.8586\n",
      "Epoch 72/100\n",
      "375/375 [==============================] - 1s 3ms/step - loss: 0.5002 - accuracy: 0.8540 - val_loss: 0.4777 - val_accuracy: 0.8594\n",
      "Epoch 73/100\n",
      "375/375 [==============================] - 1s 3ms/step - loss: 0.4997 - accuracy: 0.8540 - val_loss: 0.4771 - val_accuracy: 0.8587\n",
      "Epoch 74/100\n",
      "375/375 [==============================] - 1s 3ms/step - loss: 0.4992 - accuracy: 0.8541 - val_loss: 0.4768 - val_accuracy: 0.8587\n",
      "Epoch 75/100\n",
      "375/375 [==============================] - 1s 3ms/step - loss: 0.4987 - accuracy: 0.8540 - val_loss: 0.4763 - val_accuracy: 0.8597\n",
      "Epoch 76/100\n",
      "375/375 [==============================] - 1s 3ms/step - loss: 0.4982 - accuracy: 0.8546 - val_loss: 0.4757 - val_accuracy: 0.8601\n",
      "Epoch 77/100\n",
      "375/375 [==============================] - 1s 3ms/step - loss: 0.4978 - accuracy: 0.8546 - val_loss: 0.4752 - val_accuracy: 0.8594\n",
      "Epoch 78/100\n",
      "375/375 [==============================] - 1s 3ms/step - loss: 0.4973 - accuracy: 0.8548 - val_loss: 0.4750 - val_accuracy: 0.8593\n",
      "Epoch 79/100\n",
      "375/375 [==============================] - 1s 3ms/step - loss: 0.4968 - accuracy: 0.8551 - val_loss: 0.4746 - val_accuracy: 0.8595\n",
      "Epoch 80/100\n",
      "375/375 [==============================] - 1s 3ms/step - loss: 0.4964 - accuracy: 0.8548 - val_loss: 0.4742 - val_accuracy: 0.8593\n",
      "Epoch 81/100\n",
      "375/375 [==============================] - 1s 3ms/step - loss: 0.4959 - accuracy: 0.8552 - val_loss: 0.4739 - val_accuracy: 0.8586\n",
      "Epoch 82/100\n",
      "375/375 [==============================] - 1s 3ms/step - loss: 0.4955 - accuracy: 0.8550 - val_loss: 0.4736 - val_accuracy: 0.8608\n",
      "Epoch 83/100\n",
      "375/375 [==============================] - 1s 3ms/step - loss: 0.4950 - accuracy: 0.8556 - val_loss: 0.4731 - val_accuracy: 0.8593\n",
      "Epoch 84/100\n",
      "375/375 [==============================] - 1s 3ms/step - loss: 0.4946 - accuracy: 0.8559 - val_loss: 0.4727 - val_accuracy: 0.8601\n",
      "Epoch 85/100\n",
      "375/375 [==============================] - 1s 3ms/step - loss: 0.4941 - accuracy: 0.8560 - val_loss: 0.4722 - val_accuracy: 0.8602\n",
      "Epoch 86/100\n",
      "375/375 [==============================] - 1s 3ms/step - loss: 0.4937 - accuracy: 0.8559 - val_loss: 0.4720 - val_accuracy: 0.8602\n",
      "Epoch 87/100\n",
      "375/375 [==============================] - 1s 3ms/step - loss: 0.4932 - accuracy: 0.8559 - val_loss: 0.4713 - val_accuracy: 0.8608\n",
      "Epoch 88/100\n",
      "375/375 [==============================] - 1s 3ms/step - loss: 0.4929 - accuracy: 0.8563 - val_loss: 0.4711 - val_accuracy: 0.8602\n",
      "Epoch 89/100\n",
      "375/375 [==============================] - 1s 3ms/step - loss: 0.4924 - accuracy: 0.8562 - val_loss: 0.4705 - val_accuracy: 0.8605\n",
      "Epoch 90/100\n",
      "375/375 [==============================] - 1s 3ms/step - loss: 0.4920 - accuracy: 0.8565 - val_loss: 0.4705 - val_accuracy: 0.8603\n",
      "Epoch 91/100\n",
      "375/375 [==============================] - 1s 3ms/step - loss: 0.4916 - accuracy: 0.8566 - val_loss: 0.4698 - val_accuracy: 0.8612\n",
      "Epoch 92/100\n",
      "375/375 [==============================] - 1s 3ms/step - loss: 0.4912 - accuracy: 0.8567 - val_loss: 0.4699 - val_accuracy: 0.8607\n",
      "Epoch 93/100\n",
      "375/375 [==============================] - 1s 3ms/step - loss: 0.4909 - accuracy: 0.8566 - val_loss: 0.4691 - val_accuracy: 0.8609\n",
      "Epoch 94/100\n",
      "375/375 [==============================] - 1s 3ms/step - loss: 0.4904 - accuracy: 0.8570 - val_loss: 0.4686 - val_accuracy: 0.8615\n",
      "Epoch 95/100\n",
      "375/375 [==============================] - 1s 3ms/step - loss: 0.4900 - accuracy: 0.8571 - val_loss: 0.4683 - val_accuracy: 0.8616\n",
      "Epoch 96/100\n",
      "375/375 [==============================] - 1s 3ms/step - loss: 0.4896 - accuracy: 0.8572 - val_loss: 0.4678 - val_accuracy: 0.8612\n",
      "Epoch 97/100\n",
      "375/375 [==============================] - 1s 3ms/step - loss: 0.4892 - accuracy: 0.8576 - val_loss: 0.4677 - val_accuracy: 0.8618\n",
      "Epoch 98/100\n",
      "375/375 [==============================] - 1s 3ms/step - loss: 0.4888 - accuracy: 0.8576 - val_loss: 0.4675 - val_accuracy: 0.8614\n",
      "Epoch 99/100\n",
      "375/375 [==============================] - 1s 3ms/step - loss: 0.4885 - accuracy: 0.8573 - val_loss: 0.4673 - val_accuracy: 0.8616\n",
      "Epoch 100/100\n",
      "375/375 [==============================] - 1s 3ms/step - loss: 0.4882 - accuracy: 0.8578 - val_loss: 0.4666 - val_accuracy: 0.8617\n"
     ]
    },
    {
     "data": {
      "text/plain": [
       "<keras.callbacks.History at 0x1cc4b522890>"
      ]
     },
     "execution_count": 18,
     "metadata": {},
     "output_type": "execute_result"
    }
   ],
   "source": [
    "from tensorflow.keras.callbacks import EarlyStopping\n",
    "\n",
    "# we define a callback function that will control if the accuracy \n",
    "# on the validation set (a part of train set) is not changing more than 10-4 with a patience of 20 iterations\n",
    "# If the last accuracy value is not the best one, we still keep the last results\n",
    "# In this example, we extracted 20% of the train set for the validation set that will be used to monitor the convergence.\n",
    "\n",
    "ourCallback = EarlyStopping(monitor='val_accuracy', min_delta=0.0001, patience=20, verbose=0, mode='auto', baseline=None, restore_best_weights=True)\n",
    "\n",
    "# let's learn the network again !\n",
    "# We do not know when the training will stop but no more than 2000 epochs.\n",
    "model.fit(x_train, y_train, epochs=100, batch_size=128, validation_split=0.2, callbacks=[ourCallback])\n"
   ]
  },
  {
   "cell_type": "markdown",
   "metadata": {
    "hidden": true
   },
   "source": [
    "A quel 'epoch' l'algorithme s'est-il arrêté ?"
   ]
  },
  {
   "cell_type": "markdown",
   "metadata": {
    "heading_collapsed": true
   },
   "source": [
    "## Evolution de la convergence"
   ]
  },
  {
   "cell_type": "code",
   "execution_count": null,
   "metadata": {
    "hidden": true
   },
   "outputs": [],
   "source": [
    "import os\n",
    "import datetime\n",
    "import matplotlib.pyplot as plt\n",
    "from IPython.display import Image\n",
    "from tensorflow.keras.callbacks import EarlyStopping\n",
    "\n",
    "ourCallback = tensorflow.keras.callbacks.EarlyStopping(monitor='val_accuracy', min_delta=0.0001, patience=20, verbose=0, mode='auto', baseline=None, restore_best_weights=False)\n",
    "\n",
    "model.compile(optimizer='rmsprop',loss='categorical_crossentropy', metrics=['accuracy'])"
   ]
  },
  {
   "cell_type": "code",
   "execution_count": 6,
   "metadata": {
    "ExecuteTime": {
     "end_time": "2022-11-14T13:59:17.452295Z",
     "start_time": "2022-11-14T13:59:17.303696Z"
    },
    "hidden": true
   },
   "outputs": [
    {
     "ename": "NameError",
     "evalue": "name 'model' is not defined",
     "output_type": "error",
     "traceback": [
      "\u001b[0;31m---------------------------------------------------------------------------\u001b[0m",
      "\u001b[0;31mNameError\u001b[0m                                 Traceback (most recent call last)",
      "\u001b[0;32m<ipython-input-6-8bcee8aaf221>\u001b[0m in \u001b[0;36m<module>\u001b[0;34m\u001b[0m\n\u001b[1;32m      1\u001b[0m \u001b[0;32mfrom\u001b[0m \u001b[0mpandas\u001b[0m \u001b[0;32mimport\u001b[0m \u001b[0mDataFrame\u001b[0m\u001b[0;34m\u001b[0m\u001b[0;34m\u001b[0m\u001b[0m\n\u001b[0;32m----> 2\u001b[0;31m \u001b[0mhistory\u001b[0m \u001b[0;34m=\u001b[0m \u001b[0mmodel\u001b[0m\u001b[0;34m.\u001b[0m\u001b[0mfit\u001b[0m\u001b[0;34m(\u001b[0m\u001b[0mxTrain\u001b[0m\u001b[0;34m,\u001b[0m \u001b[0myTrain\u001b[0m\u001b[0;34m,\u001b[0m \u001b[0mepochs\u001b[0m\u001b[0;34m=\u001b[0m\u001b[0;36m2000\u001b[0m\u001b[0;34m,\u001b[0m \u001b[0mbatch_size\u001b[0m\u001b[0;34m=\u001b[0m\u001b[0;36m128\u001b[0m\u001b[0;34m,\u001b[0m \u001b[0mvalidation_split\u001b[0m\u001b[0;34m=\u001b[0m\u001b[0;36m0.2\u001b[0m\u001b[0;34m,\u001b[0m \u001b[0mcallbacks\u001b[0m\u001b[0;34m=\u001b[0m\u001b[0;34m[\u001b[0m\u001b[0mourCallback\u001b[0m\u001b[0;34m]\u001b[0m\u001b[0;34m)\u001b[0m\u001b[0;34m\u001b[0m\u001b[0;34m\u001b[0m\u001b[0m\n\u001b[0m\u001b[1;32m      3\u001b[0m \u001b[0mpandas\u001b[0m\u001b[0;34m.\u001b[0m\u001b[0mDataFrame\u001b[0m\u001b[0;34m(\u001b[0m\u001b[0mhistory\u001b[0m\u001b[0;34m.\u001b[0m\u001b[0mhistory\u001b[0m\u001b[0;34m)\u001b[0m\u001b[0;34m.\u001b[0m\u001b[0mplot\u001b[0m\u001b[0;34m(\u001b[0m\u001b[0;34m)\u001b[0m\u001b[0;34m\u001b[0m\u001b[0;34m\u001b[0m\u001b[0m\n",
      "\u001b[0;31mNameError\u001b[0m: name 'model' is not defined"
     ]
    }
   ],
   "source": [
    "from pandas import DataFrame\n",
    "history = model.fit(xTrain, yTrain, epochs=2000, batch_size=128, validation_split=0.2, callbacks=[ourCallback])\n",
    "pandas.DataFrame(history.history).plot()"
   ]
  },
  {
   "cell_type": "markdown",
   "metadata": {
    "heading_collapsed": true
   },
   "source": [
    "# 3. Changements de topologie\n"
   ]
  },
  {
   "cell_type": "markdown",
   "metadata": {
    "hidden": true
   },
   "source": [
    "**Est-ce qu'augmenter le nombre de neurones par couche augmente les performances?**"
   ]
  },
  {
   "cell_type": "markdown",
   "metadata": {
    "hidden": true
   },
   "source": [
    "Augmenter le nombre de neurones peut potentiellement améliorer les performances en capturant plus de nuances dans les données, mais cela peut aussi mener à l'overfitting si le réseau devient trop complexe par rapport à la simplicité des données."
   ]
  },
  {
   "cell_type": "markdown",
   "metadata": {
    "hidden": true
   },
   "source": [
    "**Est-ce qu'augmenter le nombre de couches de neurones augmente les performances?**"
   ]
  },
  {
   "cell_type": "markdown",
   "metadata": {
    "hidden": true
   },
   "source": [
    "Ajouter des couches de neurones peut augmenter la capacité du modèle à apprendre des hiérarchies de caractéristiques plus complexes, ce qui pourrait améliorer la performance sur des tâches difficiles."
   ]
  },
  {
   "cell_type": "markdown",
   "metadata": {
    "hidden": true
   },
   "source": [
    "**Si vous observez qu'en augmentant le nombre de couches cachées, les performances chutent, essayez de remplacer l'activiation 'sigmoid' par 'relu'. Est-ce mieux ?**"
   ]
  },
  {
   "cell_type": "markdown",
   "metadata": {
    "hidden": true
   },
   "source": [
    "Si les performances diminuent avec plus de couches cachées utilisant 'sigmoid', passer à 'relu' peut aider, car 'relu' souffre moins du problème de disparition de gradient et peut faciliter la convergence lors de l'apprentissage."
   ]
  }
 ],
 "metadata": {
  "celltoolbar": "Raw Cell Format",
  "hide_input": false,
  "kernelspec": {
   "display_name": "SI4",
   "language": "python",
   "name": "si4"
  },
  "language_info": {
   "codemirror_mode": {
    "name": "ipython",
    "version": 3
   },
   "file_extension": ".py",
   "mimetype": "text/x-python",
   "name": "python",
   "nbconvert_exporter": "python",
   "pygments_lexer": "ipython3",
   "version": "3.10.12"
  },
  "latex_envs": {
   "LaTeX_envs_menu_present": true,
   "autoclose": false,
   "autocomplete": true,
   "bibliofile": "biblio.bib",
   "cite_by": "apalike",
   "current_citInitial": 1,
   "eqLabelWithNumbers": true,
   "eqNumInitial": 1,
   "hotkeys": {
    "equation": "Ctrl-E",
    "itemize": "Ctrl-I"
   },
   "labels_anchors": false,
   "latex_user_defs": false,
   "report_style_numbering": false,
   "user_envs_cfg": false
  },
  "varInspector": {
   "cols": {
    "lenName": 16,
    "lenType": 16,
    "lenVar": 40
   },
   "kernels_config": {
    "python": {
     "delete_cmd_postfix": "",
     "delete_cmd_prefix": "del ",
     "library": "var_list.py",
     "varRefreshCmd": "print(var_dic_list())"
    },
    "r": {
     "delete_cmd_postfix": ") ",
     "delete_cmd_prefix": "rm(",
     "library": "var_list.r",
     "varRefreshCmd": "cat(var_dic_list()) "
    }
   },
   "types_to_exclude": [
    "module",
    "function",
    "builtin_function_or_method",
    "instance",
    "_Feature"
   ],
   "window_display": false
  }
 },
 "nbformat": 4,
 "nbformat_minor": 2
}
